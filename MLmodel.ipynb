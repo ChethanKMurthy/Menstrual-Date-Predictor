{
  "nbformat": 4,
  "nbformat_minor": 0,
  "metadata": {
    "colab": {
      "provenance": []
    },
    "kernelspec": {
      "name": "python3",
      "display_name": "Python 3"
    },
    "language_info": {
      "name": "python"
    }
  },
  "cells": [
    {
      "cell_type": "code",
      "source": [
        "import pandas as pd\n",
        "from datetime import datetime, timedelta\n",
        "from sklearn.linear_model import LinearRegression\n",
        "\n",
        "# Load the dataset from CSV file\n",
        "data = pd.read_csv(\"generated_dataset.csv\")\n",
        "\n",
        "# Extract relevant columns\n",
        "X = data[['Cycle_Length', 'Period_Length']].values\n",
        "y = data['Last_Menstrual_Date'].values\n",
        "\n",
        "# Convert date strings to datetime objects\n",
        "y = [datetime.strptime(date, '%Y-%m-%d') for date in y]\n",
        "\n",
        "# Convert datetime objects to numeric values (timestamps)\n",
        "y_numeric = [date.timestamp() for date in y]\n",
        "\n",
        "# Split data into training and testing sets\n",
        "X_train, X_test = X[:-1], X[-1:]\n",
        "y_train, y_test = y_numeric[:-1], y_numeric[-1:]\n",
        "\n",
        "# Perform linear regression\n",
        "model = LinearRegression()\n",
        "model.fit(X_train, y_train)\n",
        "\n",
        "# Predict next cycle length and next period date\n",
        "next_cycle_length = model.predict(X_test)[0]\n",
        "next_period_date = datetime.fromtimestamp(y_test[0] + next_cycle_length)\n",
        "\n",
        "# Print the predictions\n",
        "print(\"Predicted next cycle length:\", round(next_cycle_length, 2))\n",
        "print(\"Predicted next period date:\", next_period_date.strftime('%Y-%m-%d'))\n"
      ],
      "metadata": {
        "id": "tf05OyZMCJvP",
        "colab": {
          "base_uri": "https://localhost:8080/"
        },
        "outputId": "4435875b-ba3f-4b6e-b0e3-e7c4f5e8ca8a"
      },
      "execution_count": 11,
      "outputs": [
        {
          "output_type": "stream",
          "name": "stdout",
          "text": [
            "Predicted next cycle length: 1697071140.43\n",
            "Predicted next period date: 2077-10-13\n"
          ]
        }
      ]
    },
    {
      "cell_type": "code",
      "source": [],
      "metadata": {
        "id": "pVTVwwQ7JwnW"
      },
      "execution_count": null,
      "outputs": []
    }
  ]
}